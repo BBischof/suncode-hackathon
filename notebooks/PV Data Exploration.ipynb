{
 "cells": [
  {
   "cell_type": "code",
   "execution_count": 27,
   "metadata": {
    "collapsed": false
   },
   "outputs": [],
   "source": [
    "import pandas as pd\n",
    "from IPython.display import display"
   ]
  },
  {
   "cell_type": "code",
   "execution_count": 28,
   "metadata": {
    "collapsed": false,
    "scrolled": true
   },
   "outputs": [],
   "source": [
    "pv_df = pd.read_csv(\"../data-sources/pv-data-jan2015.csv\")"
   ]
  },
  {
   "cell_type": "code",
   "execution_count": 29,
   "metadata": {
    "collapsed": false
   },
   "outputs": [
    {
     "data": {
      "text/html": [
       "<div>\n",
       "<table border=\"1\" class=\"dataframe\">\n",
       "  <thead>\n",
       "    <tr style=\"text-align: right;\">\n",
       "      <th></th>\n",
       "      <th>date</th>\n",
       "      <th>kwh</th>\n",
       "    </tr>\n",
       "  </thead>\n",
       "  <tbody>\n",
       "    <tr>\n",
       "      <th>0</th>\n",
       "      <td>1/1/14 0:00</td>\n",
       "      <td>0.0</td>\n",
       "    </tr>\n",
       "    <tr>\n",
       "      <th>1</th>\n",
       "      <td>1/1/14 0:05</td>\n",
       "      <td>0.0</td>\n",
       "    </tr>\n",
       "    <tr>\n",
       "      <th>2</th>\n",
       "      <td>1/1/14 0:10</td>\n",
       "      <td>0.0</td>\n",
       "    </tr>\n",
       "    <tr>\n",
       "      <th>3</th>\n",
       "      <td>1/1/14 0:15</td>\n",
       "      <td>0.0</td>\n",
       "    </tr>\n",
       "    <tr>\n",
       "      <th>4</th>\n",
       "      <td>1/1/14 0:20</td>\n",
       "      <td>0.0</td>\n",
       "    </tr>\n",
       "  </tbody>\n",
       "</table>\n",
       "</div>"
      ],
      "text/plain": [
       "          date   kwh\n",
       "0  1/1/14 0:00   0.0\n",
       "1  1/1/14 0:05   0.0\n",
       "2  1/1/14 0:10   0.0\n",
       "3  1/1/14 0:15   0.0\n",
       "4  1/1/14 0:20   0.0"
      ]
     },
     "execution_count": 29,
     "metadata": {},
     "output_type": "execute_result"
    }
   ],
   "source": [
    "pv_df.head()"
   ]
  },
  {
   "cell_type": "code",
   "execution_count": 35,
   "metadata": {
    "collapsed": false
   },
   "outputs": [],
   "source": [
    "pv_df['month'] = pv_df['date'].apply(lambda x: '{:02d}'.format(int(x.split(\" \")[0].split(\"/\")[0])))# + x.split(\" \")[1].split(\":\"))\n",
    "pv_df['day'] = pv_df['date'].apply(lambda x: '{:02d}'.format(int(x.split(\" \")[0].split(\"/\")[1])))\n",
    "pv_df['year'] = pv_df['date'].apply(lambda x: '{:02d}'.format(int(x.split(\" \")[0].split(\"/\")[2])))\n",
    "pv_df['hour'] = pv_df['date'].apply(lambda x: '{:02d}'.format(int(x.split(\" \")[1].split(\":\")[0])))\n",
    "pv_df['minutes'] = pv_df['date'].apply(lambda x: '{:02d}'.format(int(x.split(\" \")[1].split(\":\")[1])))"
   ]
  },
  {
   "cell_type": "code",
   "execution_count": 36,
   "metadata": {
    "collapsed": false
   },
   "outputs": [
    {
     "data": {
      "text/html": [
       "<div>\n",
       "<table border=\"1\" class=\"dataframe\">\n",
       "  <thead>\n",
       "    <tr style=\"text-align: right;\">\n",
       "      <th></th>\n",
       "      <th>date</th>\n",
       "      <th>kwh</th>\n",
       "      <th>month</th>\n",
       "      <th>day</th>\n",
       "      <th>year</th>\n",
       "      <th>hour</th>\n",
       "      <th>minutes</th>\n",
       "    </tr>\n",
       "  </thead>\n",
       "  <tbody>\n",
       "    <tr>\n",
       "      <th>0</th>\n",
       "      <td>1/1/14 0:00</td>\n",
       "      <td>0.0</td>\n",
       "      <td>01</td>\n",
       "      <td>01</td>\n",
       "      <td>14</td>\n",
       "      <td>00</td>\n",
       "      <td>00</td>\n",
       "    </tr>\n",
       "    <tr>\n",
       "      <th>1</th>\n",
       "      <td>1/1/14 0:05</td>\n",
       "      <td>0.0</td>\n",
       "      <td>01</td>\n",
       "      <td>01</td>\n",
       "      <td>14</td>\n",
       "      <td>00</td>\n",
       "      <td>05</td>\n",
       "    </tr>\n",
       "    <tr>\n",
       "      <th>2</th>\n",
       "      <td>1/1/14 0:10</td>\n",
       "      <td>0.0</td>\n",
       "      <td>01</td>\n",
       "      <td>01</td>\n",
       "      <td>14</td>\n",
       "      <td>00</td>\n",
       "      <td>10</td>\n",
       "    </tr>\n",
       "    <tr>\n",
       "      <th>3</th>\n",
       "      <td>1/1/14 0:15</td>\n",
       "      <td>0.0</td>\n",
       "      <td>01</td>\n",
       "      <td>01</td>\n",
       "      <td>14</td>\n",
       "      <td>00</td>\n",
       "      <td>15</td>\n",
       "    </tr>\n",
       "    <tr>\n",
       "      <th>4</th>\n",
       "      <td>1/1/14 0:20</td>\n",
       "      <td>0.0</td>\n",
       "      <td>01</td>\n",
       "      <td>01</td>\n",
       "      <td>14</td>\n",
       "      <td>00</td>\n",
       "      <td>20</td>\n",
       "    </tr>\n",
       "  </tbody>\n",
       "</table>\n",
       "</div>"
      ],
      "text/plain": [
       "          date   kwh month day year hour minutes\n",
       "0  1/1/14 0:00   0.0    01  01   14   00      00\n",
       "1  1/1/14 0:05   0.0    01  01   14   00      05\n",
       "2  1/1/14 0:10   0.0    01  01   14   00      10\n",
       "3  1/1/14 0:15   0.0    01  01   14   00      15\n",
       "4  1/1/14 0:20   0.0    01  01   14   00      20"
      ]
     },
     "execution_count": 36,
     "metadata": {},
     "output_type": "execute_result"
    }
   ],
   "source": [
    "pv_df.head()"
   ]
  },
  {
   "cell_type": "code",
   "execution_count": 39,
   "metadata": {
    "collapsed": true
   },
   "outputs": [],
   "source": [
    "pv_df2 = pd.read_csv(\"../data-sources/pv2-data-jan2014.csv\")"
   ]
  },
  {
   "cell_type": "code",
   "execution_count": 40,
   "metadata": {
    "collapsed": false
   },
   "outputs": [
    {
     "data": {
      "text/html": [
       "<div>\n",
       "<table border=\"1\" class=\"dataframe\">\n",
       "  <thead>\n",
       "    <tr style=\"text-align: right;\">\n",
       "      <th></th>\n",
       "      <th>date</th>\n",
       "      <th>kwh</th>\n",
       "    </tr>\n",
       "  </thead>\n",
       "  <tbody>\n",
       "    <tr>\n",
       "      <th>0</th>\n",
       "      <td>1/1/2014 0:00</td>\n",
       "      <td>0.0</td>\n",
       "    </tr>\n",
       "    <tr>\n",
       "      <th>1</th>\n",
       "      <td>1/1/2014 0:05</td>\n",
       "      <td>0.0</td>\n",
       "    </tr>\n",
       "    <tr>\n",
       "      <th>2</th>\n",
       "      <td>1/1/2014 0:10</td>\n",
       "      <td>0.0</td>\n",
       "    </tr>\n",
       "    <tr>\n",
       "      <th>3</th>\n",
       "      <td>1/1/2014 0:15</td>\n",
       "      <td>0.0</td>\n",
       "    </tr>\n",
       "    <tr>\n",
       "      <th>4</th>\n",
       "      <td>1/1/2014 0:20</td>\n",
       "      <td>0.0</td>\n",
       "    </tr>\n",
       "  </tbody>\n",
       "</table>\n",
       "</div>"
      ],
      "text/plain": [
       "            date   kwh\n",
       "0  1/1/2014 0:00   0.0\n",
       "1  1/1/2014 0:05   0.0\n",
       "2  1/1/2014 0:10   0.0\n",
       "3  1/1/2014 0:15   0.0\n",
       "4  1/1/2014 0:20   0.0"
      ]
     },
     "execution_count": 40,
     "metadata": {},
     "output_type": "execute_result"
    }
   ],
   "source": [
    "pv_df2.head()"
   ]
  },
  {
   "cell_type": "code",
   "execution_count": 41,
   "metadata": {
    "collapsed": true
   },
   "outputs": [],
   "source": [
    "pv_df2['month'] = pv_df2['date'].apply(lambda x: '{:02d}'.format(int(x.split(\" \")[0].split(\"/\")[0])))# + x.split(\" \")[1].split(\":\"))\n",
    "pv_df2['day'] = pv_df2['date'].apply(lambda x: '{:02d}'.format(int(x.split(\" \")[0].split(\"/\")[1])))\n",
    "pv_df2['year'] = pv_df2['date'].apply(lambda x: '{:02d}'.format(int(x.split(\" \")[0].split(\"/\")[2])))\n",
    "pv_df2['hour'] = pv_df2['date'].apply(lambda x: '{:02d}'.format(int(x.split(\" \")[1].split(\":\")[0])))\n",
    "pv_df2['minutes'] = pv_df2['date'].apply(lambda x: '{:02d}'.format(int(x.split(\" \")[1].split(\":\")[1])))"
   ]
  },
  {
   "cell_type": "code",
   "execution_count": 42,
   "metadata": {
    "collapsed": false
   },
   "outputs": [
    {
     "data": {
      "text/html": [
       "<div>\n",
       "<table border=\"1\" class=\"dataframe\">\n",
       "  <thead>\n",
       "    <tr style=\"text-align: right;\">\n",
       "      <th></th>\n",
       "      <th>date</th>\n",
       "      <th>kwh</th>\n",
       "      <th>month</th>\n",
       "      <th>day</th>\n",
       "      <th>year</th>\n",
       "      <th>hour</th>\n",
       "      <th>minutes</th>\n",
       "    </tr>\n",
       "  </thead>\n",
       "  <tbody>\n",
       "    <tr>\n",
       "      <th>0</th>\n",
       "      <td>1/1/2014 0:00</td>\n",
       "      <td>0.0</td>\n",
       "      <td>01</td>\n",
       "      <td>01</td>\n",
       "      <td>2014</td>\n",
       "      <td>00</td>\n",
       "      <td>00</td>\n",
       "    </tr>\n",
       "    <tr>\n",
       "      <th>1</th>\n",
       "      <td>1/1/2014 0:05</td>\n",
       "      <td>0.0</td>\n",
       "      <td>01</td>\n",
       "      <td>01</td>\n",
       "      <td>2014</td>\n",
       "      <td>00</td>\n",
       "      <td>05</td>\n",
       "    </tr>\n",
       "    <tr>\n",
       "      <th>2</th>\n",
       "      <td>1/1/2014 0:10</td>\n",
       "      <td>0.0</td>\n",
       "      <td>01</td>\n",
       "      <td>01</td>\n",
       "      <td>2014</td>\n",
       "      <td>00</td>\n",
       "      <td>10</td>\n",
       "    </tr>\n",
       "    <tr>\n",
       "      <th>3</th>\n",
       "      <td>1/1/2014 0:15</td>\n",
       "      <td>0.0</td>\n",
       "      <td>01</td>\n",
       "      <td>01</td>\n",
       "      <td>2014</td>\n",
       "      <td>00</td>\n",
       "      <td>15</td>\n",
       "    </tr>\n",
       "    <tr>\n",
       "      <th>4</th>\n",
       "      <td>1/1/2014 0:20</td>\n",
       "      <td>0.0</td>\n",
       "      <td>01</td>\n",
       "      <td>01</td>\n",
       "      <td>2014</td>\n",
       "      <td>00</td>\n",
       "      <td>20</td>\n",
       "    </tr>\n",
       "  </tbody>\n",
       "</table>\n",
       "</div>"
      ],
      "text/plain": [
       "            date   kwh month day  year hour minutes\n",
       "0  1/1/2014 0:00   0.0    01  01  2014   00      00\n",
       "1  1/1/2014 0:05   0.0    01  01  2014   00      05\n",
       "2  1/1/2014 0:10   0.0    01  01  2014   00      10\n",
       "3  1/1/2014 0:15   0.0    01  01  2014   00      15\n",
       "4  1/1/2014 0:20   0.0    01  01  2014   00      20"
      ]
     },
     "execution_count": 42,
     "metadata": {},
     "output_type": "execute_result"
    }
   ],
   "source": [
    "pv_df2.head()"
   ]
  },
  {
   "cell_type": "code",
   "execution_count": null,
   "metadata": {
    "collapsed": true
   },
   "outputs": [],
   "source": []
  }
 ],
 "metadata": {
  "kernelspec": {
   "display_name": "Python 2",
   "language": "python",
   "name": "python2"
  },
  "language_info": {
   "codemirror_mode": {
    "name": "ipython",
    "version": 2
   },
   "file_extension": ".py",
   "mimetype": "text/x-python",
   "name": "python",
   "nbconvert_exporter": "python",
   "pygments_lexer": "ipython2",
   "version": "2.7.10"
  }
 },
 "nbformat": 4,
 "nbformat_minor": 1
}
